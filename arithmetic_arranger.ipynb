{
 "cells": [
  {
   "cell_type": "code",
   "execution_count": 48,
   "metadata": {},
   "outputs": [
    {
     "data": {
      "text/plain": [
       "'Error: Numbers must only contain digits.'"
      ]
     },
     "execution_count": 48,
     "metadata": {},
     "output_type": "execute_result"
    }
   ],
   "source": [
    "probs=['98 + 3g5', '3801 - 2', '45 + 43', '123 + 49']\n",
    "arithmetic_arranger(probs)\n"
   ]
  },
  {
   "cell_type": "code",
   "execution_count": 47,
   "metadata": {},
   "outputs": [],
   "source": [
    "def arithmetic_arranger(problems,display=False):\n",
    "    num=len(problems)\n",
    "    try:\n",
    "        if num > 5:\n",
    "            raise BaseException\n",
    "    except:\n",
    "          return('Error: Too many problems.')\n",
    "\n",
    "    stripped=[s.split(' ') for s in problems]\n",
    "    try:\n",
    "        for i in range(num):\n",
    "            if stripped[i][1]!=('+') and stripped[i][1]!=('-'):\n",
    "                raise BaseException\n",
    "    except:\n",
    "        return('Error: Operator must be \\'+\\' or \\'-\\'.')\n",
    "\n",
    "\n",
    "    lengths=[max(len(stripped[s][0]),len(stripped[s][2])) for s in range(num)]\n",
    "    try:\n",
    "        if max(lengths)>4:\n",
    "            raise BaseException\n",
    "    except:\n",
    "        return('Error: Numbers cannot be more than four digits.')\n",
    "\n",
    "    op = {'+': lambda x, y: x + y,\n",
    "            '-': lambda x, y: x - y}\n",
    "    try:\n",
    "          sums=[op[stripped[i][1]](int(stripped[i][0]),int(stripped[i][2])) for i in range(num)]\n",
    "    except:\n",
    "          return('Error: Numbers must only contain digits.')\n",
    "\n",
    "    lengths=[s+2 for s in lengths]\n",
    "    top=''\n",
    "    spaces=[lengths[s]-len(stripped[s][0]) for s in range(num)]\n",
    "    for i in range(num):\n",
    "        top=top+spaces[i]*' '+stripped[i][0]+4*' '\n",
    "        \n",
    "\n",
    "    bottom=''\n",
    "    spaces=[lengths[s]-len(stripped[s][2]) for s in range(num)]\n",
    "    for i in range(num):\n",
    "        bottom=bottom+stripped[i][1]+(spaces[i]-1)*' '+stripped[i][2]+4*' '\n",
    "     \n",
    "    dashes=''\n",
    "    for i in range(num):\n",
    "        dashes=dashes+'-'*lengths[i]+' '*4\n",
    "    \n",
    "    sums=[str(sums[i]) for i in range(num)]\n",
    "    last=''\n",
    "    spaces=[lengths[s]-len(sums[s]) for s in range(num)]\n",
    "    for i in range(num):\n",
    "        last=last+' '*spaces[i]+sums[i]+' '*4\n",
    "    \n",
    "    if display==True:\n",
    "        arranged_problems=(top.rstrip()+'\\n'+bottom.rstrip()+'\\n'+dashes.rstrip()+'\\n'+last.rstrip())\n",
    "    else:\n",
    "        arranged_problems=(top.rstrip()+'\\n'+bottom.rstrip()+'\\n'+dashes.rstrip())\n",
    "    return arranged_problems\n",
    "\n",
    "\n"
   ]
  },
  {
   "cell_type": "code",
   "execution_count": null,
   "metadata": {},
   "outputs": [],
   "source": []
  }
 ],
 "metadata": {
  "kernelspec": {
   "display_name": "Python 3",
   "language": "python",
   "name": "python3"
  },
  "language_info": {
   "codemirror_mode": {
    "name": "ipython",
    "version": 3
   },
   "file_extension": ".py",
   "mimetype": "text/x-python",
   "name": "python",
   "nbconvert_exporter": "python",
   "pygments_lexer": "ipython3",
   "version": "3.8.3"
  }
 },
 "nbformat": 4,
 "nbformat_minor": 4
}
